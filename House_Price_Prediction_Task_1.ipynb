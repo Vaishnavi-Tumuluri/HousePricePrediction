{
  "nbformat": 4,
  "nbformat_minor": 0,
  "metadata": {
    "colab": {
      "provenance": [],
      "authorship_tag": "ABX9TyO2m81Ivlrb0GzTxqIxyOIz",
      "include_colab_link": true
    },
    "kernelspec": {
      "name": "python3",
      "display_name": "Python 3"
    },
    "language_info": {
      "name": "python"
    }
  },
  "cells": [
    {
      "cell_type": "markdown",
      "metadata": {
        "id": "view-in-github",
        "colab_type": "text"
      },
      "source": [
        "<a href=\"https://colab.research.google.com/github/Vaishnavi-Tumuluri/HousePricePrediction/blob/main/House_Price_Prediction_Task_1.ipynb\" target=\"_parent\"><img src=\"https://colab.research.google.com/assets/colab-badge.svg\" alt=\"Open In Colab\"/></a>"
      ]
    },
    {
      "cell_type": "markdown",
      "source": [
        "**Import Necessary Libraries**"
      ],
      "metadata": {
        "id": "vOVLY76X1LqI"
      }
    },
    {
      "cell_type": "code",
      "execution_count": 6,
      "metadata": {
        "id": "phwslveGypma"
      },
      "outputs": [],
      "source": [
        "import pandas as pd\n",
        "import numpy as np\n",
        "import matplotlib.pyplot as plt\n",
        "import seaborn as sns\n",
        "from sklearn.model_selection import train_test_split\n",
        "from sklearn.linear_model import LinearRegression\n",
        "from sklearn.metrics import mean_squared_error, r2_score, mean_absolute_error"
      ]
    },
    {
      "cell_type": "markdown",
      "source": [
        "**Import the Dataset**"
      ],
      "metadata": {
        "id": "Ymh84MHj2Hwl"
      }
    },
    {
      "cell_type": "code",
      "source": [
        "df = pd.read_csv('House pricing.csv')\n",
        "df.head()"
      ],
      "metadata": {
        "id": "nolkC8k30-fM"
      },
      "execution_count": null,
      "outputs": []
    },
    {
      "cell_type": "code",
      "source": [
        "df.shape"
      ],
      "metadata": {
        "id": "rVtD5vnM3KfA"
      },
      "execution_count": null,
      "outputs": []
    },
    {
      "cell_type": "code",
      "source": [
        "df.info()"
      ],
      "metadata": {
        "id": "ZBu3576z3OH6"
      },
      "execution_count": null,
      "outputs": []
    },
    {
      "cell_type": "markdown",
      "source": [
        "**Separate the Numerical and the Categorical Columns**"
      ],
      "metadata": {
        "id": "LQ0JRPMn3exO"
      }
    },
    {
      "cell_type": "code",
      "source": [
        "num_cols = [col for col in df.columns if df[col].dtype != 'object']\n",
        "cat_cols = [col for col in df.columns if df[col].dtype == 'object']\n",
        "print('Numerical Columns:', num_cols)\n",
        "print('Categorical Columns:', cat_cols)"
      ],
      "metadata": {
        "id": "lon0FWhA3cYv"
      },
      "execution_count": null,
      "outputs": []
    },
    {
      "cell_type": "markdown",
      "source": [
        "**Encode the Categorical Columns Using LabelEncoder**"
      ],
      "metadata": {
        "id": "x7bt2B_M8kU6"
      }
    },
    {
      "cell_type": "code",
      "source": [
        "from sklearn.preprocessing import LabelEncoder\n",
        "categorical_columns = [\"main road\", \"guest room\", \"basement\", \"hotwaterheating\", \"airconditioning\", \"prefarea\", \"furnishingstatus\"]\n",
        "label_encoder = LabelEncoder()\n",
        "df[categorical_columns] = df[categorical_columns].apply(label_encoder.fit_transform)"
      ],
      "metadata": {
        "id": "U6dttZbx-6WP"
      },
      "execution_count": null,
      "outputs": []
    },
    {
      "cell_type": "markdown",
      "source": [
        "**Visualize through Histograms for Numerical Columns**"
      ],
      "metadata": {
        "id": "FNjDERkC-0LH"
      }
    },
    {
      "cell_type": "code",
      "source": [],
      "metadata": {
        "id": "gwgLVoAl_Vjs"
      },
      "execution_count": null,
      "outputs": []
    },
    {
      "cell_type": "markdown",
      "source": [
        "**Extract Independent and Dependent Variables**"
      ],
      "metadata": {
        "id": "wlMDLxxH_qA1"
      }
    },
    {
      "cell_type": "code",
      "source": [],
      "metadata": {
        "id": "RcEHtpfm_ybB"
      },
      "execution_count": null,
      "outputs": []
    },
    {
      "cell_type": "markdown",
      "source": [
        "**Split the Dataset into Training and Test sets**"
      ],
      "metadata": {
        "id": "dYxSzz5Y_zhr"
      }
    },
    {
      "cell_type": "code",
      "source": [],
      "metadata": {
        "id": "ROBgJ6vs_9HI"
      },
      "execution_count": null,
      "outputs": []
    },
    {
      "cell_type": "markdown",
      "source": [
        "**Train a Linear Regression Model**"
      ],
      "metadata": {
        "id": "azg8gkgO_9q2"
      }
    },
    {
      "cell_type": "code",
      "source": [],
      "metadata": {
        "id": "CPSU8GKOAE6A"
      },
      "execution_count": null,
      "outputs": []
    },
    {
      "cell_type": "code",
      "source": [],
      "metadata": {
        "id": "yaOWWakkAHdb"
      },
      "execution_count": null,
      "outputs": []
    },
    {
      "cell_type": "markdown",
      "source": [
        "**Predicting the Test Set Results**"
      ],
      "metadata": {
        "id": "YBipO9SVAH_J"
      }
    },
    {
      "cell_type": "code",
      "source": [],
      "metadata": {
        "id": "D2KQTXgdAQ7T"
      },
      "execution_count": null,
      "outputs": []
    },
    {
      "cell_type": "markdown",
      "source": [
        "**Visualize the Distribution of Differences between Actual and Predicted Values**"
      ],
      "metadata": {
        "id": "LsA3svoOAS9l"
      }
    },
    {
      "cell_type": "code",
      "source": [],
      "metadata": {
        "id": "J4v3m0hIAlzK"
      },
      "execution_count": null,
      "outputs": []
    },
    {
      "cell_type": "markdown",
      "source": [
        "**Evaluating the Model**"
      ],
      "metadata": {
        "id": "sE3lemVYAoI6"
      }
    },
    {
      "cell_type": "code",
      "source": [],
      "metadata": {
        "id": "09PgVo4HBDGN"
      },
      "execution_count": null,
      "outputs": []
    },
    {
      "cell_type": "markdown",
      "source": [
        "**Performance Analysis by Visualising the Correlation Matrix**"
      ],
      "metadata": {
        "id": "J4qiFAQoBD7T"
      }
    },
    {
      "cell_type": "code",
      "source": [],
      "metadata": {
        "id": "KTN1Dv4hBSWZ"
      },
      "execution_count": null,
      "outputs": []
    }
  ]
}